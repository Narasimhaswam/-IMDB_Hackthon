{
 "cells": [
  {
   "cell_type": "code",
   "execution_count": 1,
   "id": "8ad13aa2",
   "metadata": {},
   "outputs": [],
   "source": [
    "import pandas as pd"
   ]
  },
  {
   "cell_type": "code",
   "execution_count": 2,
   "id": "2f6b7434",
   "metadata": {},
   "outputs": [],
   "source": [
    "links = pd.read_csv('links.csv')\n",
    "movies = pd.read_csv('movies.csv')\n",
    "ratings = pd.read_csv('ratings.csv')\n",
    "tags = pd.read_csv('tags.csv')"
   ]
  },
  {
   "cell_type": "code",
   "execution_count": 3,
   "id": "dada60f8",
   "metadata": {},
   "outputs": [
    {
     "data": {
      "text/plain": [
       "610"
      ]
     },
     "execution_count": 3,
     "metadata": {},
     "output_type": "execute_result"
    }
   ],
   "source": [
    "ratings['userId'].nunique()\n"
   ]
  },
  {
   "cell_type": "code",
   "execution_count": 4,
   "id": "3d20ed50",
   "metadata": {},
   "outputs": [
    {
     "data": {
      "text/plain": [
       "movieId                              356\n",
       "rating_count                         329\n",
       "title                Forrest Gump (1994)\n",
       "genres          Comedy|Drama|Romance|War\n",
       "Name: 314, dtype: object"
      ]
     },
     "execution_count": 4,
     "metadata": {},
     "output_type": "execute_result"
    }
   ],
   "source": [
    "# Group the ratings by movieId and count the number of ratings for each movie\n",
    "ratings_count = ratings.groupby('movieId').size().reset_index(name='rating_count')\n",
    "\n",
    "# Merge the ratings count with the movies dataframe to get movie titles\n",
    "movies_with_ratings = pd.merge(ratings_count, movies, on='movieId')\n",
    "\n",
    "# Find the movie with the maximum number of ratings\n",
    "most_rated_movie = movies_with_ratings.loc[movies_with_ratings['rating_count'].idxmax()]\n",
    "\n",
    "most_rated_movie\n"
   ]
  },
  {
   "cell_type": "code",
   "execution_count": 5,
   "id": "d05f870f",
   "metadata": {},
   "outputs": [
    {
     "data": {
      "text/html": [
       "<div>\n",
       "<style scoped>\n",
       "    .dataframe tbody tr th:only-of-type {\n",
       "        vertical-align: middle;\n",
       "    }\n",
       "\n",
       "    .dataframe tbody tr th {\n",
       "        vertical-align: top;\n",
       "    }\n",
       "\n",
       "    .dataframe thead th {\n",
       "        text-align: right;\n",
       "    }\n",
       "</style>\n",
       "<table border=\"1\" class=\"dataframe\">\n",
       "  <thead>\n",
       "    <tr style=\"text-align: right;\">\n",
       "      <th></th>\n",
       "      <th>userId</th>\n",
       "      <th>movieId</th>\n",
       "      <th>tag</th>\n",
       "      <th>timestamp</th>\n",
       "    </tr>\n",
       "  </thead>\n",
       "  <tbody>\n",
       "    <tr>\n",
       "      <th>815</th>\n",
       "      <td>424</td>\n",
       "      <td>2571</td>\n",
       "      <td>martial arts</td>\n",
       "      <td>1457842912</td>\n",
       "    </tr>\n",
       "    <tr>\n",
       "      <th>816</th>\n",
       "      <td>424</td>\n",
       "      <td>2571</td>\n",
       "      <td>sci-fi</td>\n",
       "      <td>1457842899</td>\n",
       "    </tr>\n",
       "    <tr>\n",
       "      <th>1646</th>\n",
       "      <td>474</td>\n",
       "      <td>2571</td>\n",
       "      <td>alternate universe</td>\n",
       "      <td>1137204991</td>\n",
       "    </tr>\n",
       "    <tr>\n",
       "      <th>2794</th>\n",
       "      <td>537</td>\n",
       "      <td>2571</td>\n",
       "      <td>philosophy</td>\n",
       "      <td>1424141098</td>\n",
       "    </tr>\n",
       "    <tr>\n",
       "      <th>2795</th>\n",
       "      <td>537</td>\n",
       "      <td>2571</td>\n",
       "      <td>post apocalyptic</td>\n",
       "      <td>1424141101</td>\n",
       "    </tr>\n",
       "  </tbody>\n",
       "</table>\n",
       "</div>"
      ],
      "text/plain": [
       "      userId  movieId                 tag   timestamp\n",
       "815      424     2571        martial arts  1457842912\n",
       "816      424     2571              sci-fi  1457842899\n",
       "1646     474     2571  alternate universe  1137204991\n",
       "2794     537     2571          philosophy  1424141098\n",
       "2795     537     2571    post apocalyptic  1424141101"
      ]
     },
     "execution_count": 5,
     "metadata": {},
     "output_type": "execute_result"
    }
   ],
   "source": [
    "# Find the movieId for \"Matrix, The (1999)\"\n",
    "matrix_movie_id = movies[movies['title'] == \"Matrix, The (1999)\"]['movieId'].values[0]\n",
    "\n",
    "# Filter tags associated with \"Matrix, The (1999)\" using the movieId\n",
    "matrix_tags = tags[tags['movieId'] == matrix_movie_id]\n",
    "\n",
    "matrix_tags\n"
   ]
  },
  {
   "cell_type": "code",
   "execution_count": 6,
   "id": "2b8f6f05",
   "metadata": {},
   "outputs": [
    {
     "data": {
      "text/plain": [
       "3.970982142857143"
      ]
     },
     "execution_count": 6,
     "metadata": {},
     "output_type": "execute_result"
    }
   ],
   "source": [
    "# Find the movieId for \"Terminator 2: Judgment Day (1991)\"\n",
    "terminator_movie_id = movies[movies['title'] == \"Terminator 2: Judgment Day (1991)\"]['movieId'].values[0]\n",
    "\n",
    "# Filter ratings for \"Terminator 2: Judgment Day (1991)\" using the movieId\n",
    "terminator_ratings = ratings[ratings['movieId'] == terminator_movie_id]\n",
    "\n",
    "# Calculate the average rating\n",
    "average_rating = terminator_ratings['rating'].mean()\n",
    "\n",
    "average_rating\n"
   ]
  },
  {
   "cell_type": "code",
   "execution_count": 7,
   "id": "d711cc35",
   "metadata": {},
   "outputs": [
    {
     "data": {
      "image/png": "[encoded data removed]",
      "text/plain": [
       "<Figure size 432x288 with 1 Axes>"
      ]
     },
     "metadata": {
      "needs_background": "light"
     },
     "output_type": "display_data"
    },
    {
     "data": {
      "text/plain": [
       "-1.8603186380018706"
      ]
     },
     "execution_count": 7,
     "metadata": {},
     "output_type": "execute_result"
    }
   ],
   "source": [
    "import matplotlib.pyplot as plt\n",
    "import seaborn as sns\n",
    "\n",
    "# Find the movieId for \"Fight Club (1999)\"\n",
    "fight_club_movie_id = movies[movies['title'] == \"Fight Club (1999)\"]['movieId'].values[0]\n",
    "\n",
    "# Filter ratings for \"Fight Club (1999)\" using the movieId\n",
    "fight_club_ratings = ratings[ratings['movieId'] == fight_club_movie_id]\n",
    "\n",
    "# Plot the distribution of the ratings\n",
    "sns.histplot(fight_club_ratings['rating'], kde=True)\n",
    "plt.title('Distribution of User Ratings for \"Fight Club (1999)\"')\n",
    "plt.xlabel('Rating')\n",
    "plt.ylabel('Frequency')\n",
    "plt.show()\n",
    "\n",
    "# Check the skewness of the distribution\n",
    "skewness = fight_club_ratings['rating'].skew()\n",
    "\n",
    "skewness\n"
   ]
  },
  {
   "cell_type": "code",
   "execution_count": 8,
   "id": "e92d3553",
   "metadata": {},
   "outputs": [
    {
     "data": {
      "text/plain": [
       "movieId                        53\n",
       "average_rating                5.0\n",
       "title             Lamerica (1994)\n",
       "genres            Adventure|Drama\n",
       "Name: 48, dtype: object"
      ]
     },
     "execution_count": 8,
     "metadata": {},
     "output_type": "execute_result"
    }
   ],
   "source": [
    "# Calculate the average rating for each movie\n",
    "average_ratings = ratings.groupby('movieId')['rating'].mean().reset_index(name='average_rating')\n",
    "\n",
    "# Merge with the movies dataframe to get movie titles\n",
    "movies_with_avg_ratings = pd.merge(average_ratings, movies, on='movieId')\n",
    "\n",
    "# Find the movie with the highest average rating\n",
    "most_popular_movie = movies_with_avg_ratings.loc[movies_with_avg_ratings['average_rating'].idxmax()]\n",
    "\n",
    "most_popular_movie\n"
   ]
  },
  {
   "cell_type": "code",
   "execution_count": 9,
   "id": "4e33da50",
   "metadata": {},
   "outputs": [
    {
     "data": {
      "text/plain": [
       "title     Shawshank Redemption, The (1994)\n",
       "rating                            4.429022\n",
       "Name: 1, dtype: object"
      ]
     },
     "execution_count": 9,
     "metadata": {},
     "output_type": "execute_result"
    }
   ],
   "source": [
    "# List of the movies to compare\n",
    "movies_to_compare = [\"Godfather, The (1972)\", \"Shawshank Redemption, The (1994)\", \"Jumanji (1995)\", \"Wolf of Wall Street, The (2013)\"]\n",
    "\n",
    "# Get the movieIds for the selected movies\n",
    "movie_ids = movies[movies['title'].isin(movies_to_compare)]['movieId']\n",
    "\n",
    "# Filter the ratings for the selected movies\n",
    "selected_movies_ratings = ratings[ratings['movieId'].isin(movie_ids)]\n",
    "\n",
    "# Calculate the average ratings for each movie\n",
    "average_ratings = selected_movies_ratings.groupby('movieId')['rating'].mean().reset_index()\n",
    "\n",
    "# Merge with movies dataframe to get the titles\n",
    "average_ratings_with_titles = pd.merge(average_ratings, movies, on='movieId')\n",
    "\n",
    "# Find the movie with the highest average rating\n",
    "most_popular_movie = average_ratings_with_titles.loc[average_ratings_with_titles['rating'].idxmax()]\n",
    "\n",
    "most_popular_movie[['title', 'rating']]\n"
   ]
  },
  {
   "cell_type": "code",
   "execution_count": 10,
   "id": "1c50ae6a",
   "metadata": {},
   "outputs": [
    {
     "data": {
      "text/html": [
       "<div>\n",
       "<style scoped>\n",
       "    .dataframe tbody tr th:only-of-type {\n",
       "        vertical-align: middle;\n",
       "    }\n",
       "\n",
       "    .dataframe tbody tr th {\n",
       "        vertical-align: top;\n",
       "    }\n",
       "\n",
       "    .dataframe thead th {\n",
       "        text-align: right;\n",
       "    }\n",
       "</style>\n",
       "<table border=\"1\" class=\"dataframe\">\n",
       "  <thead>\n",
       "    <tr style=\"text-align: right;\">\n",
       "      <th></th>\n",
       "      <th>title</th>\n",
       "      <th>rating_count</th>\n",
       "    </tr>\n",
       "  </thead>\n",
       "  <tbody>\n",
       "    <tr>\n",
       "      <th>1</th>\n",
       "      <td>Pulp Fiction (1994)</td>\n",
       "      <td>307</td>\n",
       "    </tr>\n",
       "    <tr>\n",
       "      <th>2</th>\n",
       "      <td>Silence of the Lambs, The (1991)</td>\n",
       "      <td>279</td>\n",
       "    </tr>\n",
       "    <tr>\n",
       "      <th>3</th>\n",
       "      <td>Matrix, The (1999)</td>\n",
       "      <td>278</td>\n",
       "    </tr>\n",
       "  </tbody>\n",
       "</table>\n",
       "</div>"
      ],
      "text/plain": [
       "                              title  rating_count\n",
       "1               Pulp Fiction (1994)           307\n",
       "2  Silence of the Lambs, The (1991)           279\n",
       "3                Matrix, The (1999)           278"
      ]
     },
     "execution_count": 10,
     "metadata": {},
     "output_type": "execute_result"
    }
   ],
   "source": [
    "# List of the movies to compare\n",
    "movies_to_check = [\"Pulp Fiction (1994)\", \"Bad Boys (1995)\", \"Silence of the Lambs, The (1991)\", \"Matrix, The (1999)\"]\n",
    "\n",
    "# Get the movieIds for the selected movies\n",
    "movie_ids_to_check = movies[movies['title'].isin(movies_to_check)]['movieId']\n",
    "\n",
    "# Filter the ratings for the selected movies\n",
    "selected_movies_ratings_counts = ratings[ratings['movieId'].isin(movie_ids_to_check)].groupby('movieId').size().reset_index(name='rating_count')\n",
    "\n",
    "# Merge with movies dataframe to get the titles\n",
    "selected_movies_with_titles = pd.merge(selected_movies_ratings_counts, movies, on='movieId')\n",
    "\n",
    "# Find the top 5 movies based on the number of user ratings\n",
    "top_5_movies = movies_with_ratings.nlargest(5, 'rating_count')\n",
    "\n",
    "# Check which of the selected movies are in the top 5\n",
    "selected_movies_in_top_5 = selected_movies_with_titles[selected_movies_with_titles['movieId'].isin(top_5_movies['movieId'])]\n",
    "\n",
    "selected_movies_in_top_5[['title', 'rating_count']]\n"
   ]
  },
  {
   "cell_type": "code",
   "execution_count": 19,
   "id": "aab3689d",
   "metadata": {},
   "outputs": [
    {
     "data": {
      "text/plain": [
       "(32, 'Twelve Monkeys (a.k.a. 12 Monkeys) (1995)')"
      ]
     },
     "execution_count": 19,
     "metadata": {},
     "output_type": "execute_result"
    }
   ],
   "source": [
    "# Count the number of ratings for each Sci-Fi movie\n",
    "sci_fi_ratings_count = sci_fi_ratings.groupby('movieId')['rating'].count()\n",
    "\n",
    "# Find the third most popular Sci-Fi movie based on the number of ratings\n",
    "third_most_popular_sci_fi_movie_id = sci_fi_ratings_count.nlargest(3).index[-1]\n",
    "\n",
    "# Get the title of the third most popular Sci-Fi movie\n",
    "third_most_popular_sci_fi_movie = movies[movies['movieId'] == third_most_popular_sci_fi_movie_id]['title'].values[0]\n",
    "\n",
    "third_most_popular_sci_fi_movie_id, third_most_popular_sci_fi_movie\n",
    "\n"
   ]
  },
  {
   "cell_type": "code",
   "execution_count": 12,
   "id": "bf648126",
   "metadata": {},
   "outputs": [
    {
     "data": {
      "text/plain": [
       "(53, 5.0)"
      ]
     },
     "execution_count": 12,
     "metadata": {},
     "output_type": "execute_result"
    }
   ],
   "source": [
    "# Calculate the average rating for each movie\n",
    "average_ratings = ratings.groupby('movieId')['rating'].mean()\n",
    "\n",
    "# Find the movieId with the highest average rating\n",
    "highest_rated_movie_id = average_ratings.idxmax()\n",
    "highest_rating = average_ratings.max()\n",
    "\n",
    "highest_rated_movie_id, highest_rating\n"
   ]
  },
  {
   "cell_type": "code",
   "execution_count": 13,
   "id": "9b40f8f9",
   "metadata": {},
   "outputs": [
    {
     "data": {
      "text/plain": [
       "(3687, 5.0)"
      ]
     },
     "execution_count": 13,
     "metadata": {},
     "output_type": "execute_result"
    }
   ],
   "source": [
    "# Filter movies that belong to the \"Sci-Fi\" genre\n",
    "sci_fi_movies = movies[movies['genres'].str.contains('Sci-Fi', case=False, na=False)]\n",
    "\n",
    "# Merge with the average ratings to get ratings for only \"Sci-Fi\" movies\n",
    "sci_fi_ratings = sci_fi_movies.merge(average_ratings, on='movieId')\n",
    "\n",
    "# Find the \"Sci-Fi\" movie with the highest average rating\n",
    "highest_rated_sci_fi_movie_id = sci_fi_ratings.loc[sci_fi_ratings['rating'].idxmax(), 'movieId']\n",
    "highest_sci_fi_rating = sci_fi_ratings['rating'].max()\n",
    "\n",
    "highest_rated_sci_fi_movie_id, highest_sci_fi_rating\n"
   ]
  },
  {
   "cell_type": "code",
   "execution_count": null,
   "id": "fab0fab9",
   "metadata": {},
   "outputs": [],
   "source": []
  }
 ],
 "metadata": {
  "kernelspec": {
   "display_name": "Python 3 (ipykernel)",
   "language": "python",
   "name": "python3"
  },
  "language_info": {
   "codemirror_mode": {
    "name": "ipython",
    "version": 3
   },
   "file_extension": ".py",
   "mimetype": "text/x-python",
   "name": "python",
   "nbconvert_exporter": "python",
   "pygments_lexer": "ipython3",
   "version": "3.9.12"
  }
 },
 "nbformat": 4,
 "nbformat_minor": 5
}
